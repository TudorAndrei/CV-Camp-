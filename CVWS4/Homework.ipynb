{
 "cells": [
  {
   "cell_type": "code",
   "execution_count": 1,
   "metadata": {},
   "outputs": [
    {
     "name": "stdout",
     "output_type": "stream",
     "text": [
      "cuda\n"
     ]
    }
   ],
   "source": [
    "import cv2\n",
    "import torch\n",
    "import matplotlib\n",
    "import numpy as np\n",
    "import glob\n",
    "from skimage.io import imread, imshow\n",
    "from torchvision.datasets import ImageFolder\n",
    "from tqdm import tqdm\n",
    "from torch.utils.data.sampler import SubsetRandomSampler\n",
    "from torchvision import transforms\n",
    "import matplotlib.pyplot as plt\n",
    "from collections import OrderedDict\n",
    "from torchvision import models\n",
    "import os\n",
    "device = torch.device('cuda' if torch.cuda.is_available else 'cpu') \n",
    "print(device)"
   ]
  },
  {
   "cell_type": "code",
   "execution_count": 2,
   "metadata": {},
   "outputs": [],
   "source": [
    "class Model(torch.nn.Module):\n",
    "    def __init__(self):\n",
    "        super().__init__()\n",
    "        self.conv = torch.nn.Sequential(\n",
    "        \n",
    "        torch.nn.Conv2d(3,32, kernel_size=5, padding=1),\n",
    "        torch.nn.ReLU(),\n",
    "        torch.nn.MaxPool2d(2),\n",
    "            \n",
    "        torch.nn.Conv2d(32,64, kernel_size=3),\n",
    "        torch.nn.ReLU(),\n",
    "        torch.nn.MaxPool2d(2),\n",
    "        \n",
    "        torch.nn.Conv2d(64,128, kernel_size=3),\n",
    "        torch.nn.ReLU(),\n",
    "        torch.nn.MaxPool2d(2),\n",
    "        torch.nn.Conv2d(128,128, kernel_size=3),\n",
    "        torch.nn.ReLU(),\n",
    "        torch.nn.MaxPool2d(2),\n",
    "        )\n",
    "        \n",
    "        self.cls = torch.nn.Sequential(\n",
    "        torch.nn.Linear(128*12*13, 128),\n",
    "        torch.nn.ReLU(),\n",
    "        torch.nn.Linear(128,2)\n",
    "        )\n",
    "        \n",
    "    def forward(self, x):\n",
    "        out = self.conv(x)\n",
    "        # print(out.shape)\n",
    "        out = out.reshape(-1,128*12*13)\n",
    "        out = self.cls(out)\n",
    "        return out"
   ]
  },
  {
   "cell_type": "code",
   "execution_count": 3,
   "metadata": {},
   "outputs": [
    {
     "name": "stdout",
     "output_type": "stream",
     "text": [
      "2637 rows\n"
     ]
    }
   ],
   "source": [
    "transforms = transforms.Compose([\n",
    "        transforms.Resize((224,244)),\n",
    "        transforms.ToTensor(),\n",
    "    ])\n",
    "train_ds = ImageFolder(r\"./data/train/\", transform=transforms)\n",
    "test_ds = ImageFolder(r\"./data/test/\", transform=transforms)\n",
    "\n",
    "validation_split = .2\n",
    "dataset_size = len(train_ds)\n",
    "print(str(dataset_size) + \" rows\")\n",
    "indices = list(range(dataset_size))\n",
    "split = int(np.floor(validation_split * dataset_size))\n",
    "\n",
    "np.random.shuffle(indices)\n",
    "train_indices, val_indices = indices[split:], indices[:split]\n",
    "\n",
    "train_sampler = SubsetRandomSampler(train_indices)\n",
    "valid_sampler = SubsetRandomSampler(val_indices)\n",
    "\n",
    "dataloader_train = torch.utils.data.DataLoader(train_ds, batch_size=16, num_workers=4, sampler=train_sampler)\n",
    "dataloader_val = torch.utils.data.DataLoader(train_ds, batch_size=16, num_workers=4, sampler=valid_sampler)\n",
    "dataloader_test = torch.utils.data.DataLoader(test_ds, batch_size=16, num_workers=4)"
   ]
  },
  {
   "cell_type": "code",
   "execution_count": 4,
   "metadata": {},
   "outputs": [],
   "source": [
    "model = Model().to(device)\n",
    "optimizer = torch.optim.Adam(model.parameters())\n",
    "lossf = torch.nn.CrossEntropyLoss()"
   ]
  },
  {
   "cell_type": "code",
   "execution_count": 5,
   "metadata": {},
   "outputs": [],
   "source": [
    "def train_loop(model, lossf, train_dl, val_dl ,device, epochs=50, tolerance=1e-3, early_stop=True):\n",
    "    # model = model.to(device)\n",
    "\n",
    "    hist = {\"epoch\": 1}\n",
    "    train_loss ={}\n",
    "    val_loss = {}\n",
    "\n",
    "    train_acc = {}\n",
    "    val_acc = {}\n",
    "\n",
    "    best_loss = np.inf\n",
    "    loop = tqdm(range(epochs))\n",
    "\n",
    "    loss_function = lossf\n",
    "    \n",
    "    for epoch in loop:\n",
    "        losses = []\n",
    "        accs = []\n",
    "        model.train()\n",
    "        for batch in train_dl:\n",
    "            img, label = batch\n",
    "            img = img.float().to(device)\n",
    "            label = label.to(device)\n",
    "\n",
    "            \n",
    "            output = model(img)\n",
    "            loss = loss_function(output, label)\n",
    "            losses.append(loss.item())\n",
    "\n",
    "            model.zero_grad()\n",
    "            loss.backward()\n",
    "            optimizer.step()\n",
    "            \n",
    "            prediction = output.argmax(1)\n",
    "            acc = (prediction == label).sum()/len(label)\n",
    "            accs.append(acc.cpu())\n",
    "            \n",
    "            \n",
    "        losses_val = []\n",
    "        accs_val= []\n",
    "        model.eval()\n",
    "        with torch.no_grad():\n",
    "            for batch in val_dl:\n",
    "                img, label = batch\n",
    "                img = img.float().to(device)\n",
    "                label = label\n",
    "\n",
    "                output = model(img).detach().cpu()\n",
    "\n",
    "                loss = loss_function(output, label)\n",
    "                losses_val.append(loss.item())\n",
    "                prediction = output.argmax(1)\n",
    "                acc = (prediction == label).sum()/len(label)\n",
    "\n",
    "                accs_val.append(acc.cpu())\n",
    "        loop.set_description(f\"Epoch [{epoch+1}/{epochs}]\")\n",
    "        loop.set_postfix(loss = round(np.mean(losses),3), val_loss = round(np.mean(losses_val), 3))\n",
    "        \n",
    "        train_loss.update({epoch: np.mean(losses)})\n",
    "        val_loss.update({epoch: np.mean(losses_val)})\n",
    "        train_acc.update({epoch: np.mean(accs)})\n",
    "        val_acc.update({epoch: np.mean(accs_val)})\n",
    "\n",
    "        # Early stopping\n",
    "        if early_stop:\n",
    "            if abs(best_loss -  np.mean(losses_val)) < tolerance:\n",
    "                print(f\"At Epoch {epoch+1} the model obtained the best results. Stopping\")\n",
    "                # torch.save(model.model_state_dict(), \"first_train_model.pth\")\n",
    "                break\n",
    "            else:\n",
    "                best_loss =  np.mean(losses_val)\n",
    "        hist = {\"epoch\": epoch+1}\n",
    "\n",
    "\n",
    "    fig, (ax0, ax1) = plt.subplots(ncols=2, figsize=(10, 10))\n",
    "    ax0.plot(train_loss.keys(), train_loss.values(),'r')\n",
    "    ax0.plot(val_loss.keys(), val_loss.values())\n",
    "    ax0.legend(['train', 'val'])\n",
    "    ax0.title.set_text(\"Loss\")\n",
    "    ax1.plot(train_acc.keys(), train_acc.values(),'r')\n",
    "    ax1.plot(val_acc.keys(), val_acc.values())\n",
    "    ax1.legend(['train', 'val'])\n",
    "    ax1.title.set_text(\"Acc\")\n",
    "    return hist"
   ]
  },
  {
   "cell_type": "code",
   "execution_count": 6,
   "metadata": {},
   "outputs": [],
   "source": [
    "def test_loop(model, lossf, test_dl ,device):\n",
    "\n",
    "    loss_function = lossf\n",
    "\n",
    "    losses_val = []\n",
    "    accs_val= []\n",
    "\n",
    "    model.eval()\n",
    "    with torch.no_grad():\n",
    "        for batch in test_dl:\n",
    "            img, label = batch\n",
    "            img = img.float().to(device)\n",
    "            label = label\n",
    "\n",
    "            output = model(img).detach().cpu()\n",
    "\n",
    "            loss = loss_function(output, label)\n",
    "            losses_val.append(loss.item())\n",
    "            prediction = output.argmax(1)\n",
    "            acc = (prediction == label).sum()/len(label)\n",
    "\n",
    "            accs_val.append(acc.cpu())\n",
    "    \n",
    "    print(f\"The model obtained an accuracy of {np.mean(accs_val):.3f}, and a loss of {np.mean(losses_val):.3f}\")"
   ]
  },
  {
   "cell_type": "code",
   "execution_count": 8,
   "metadata": {},
   "outputs": [
    {
     "name": "stderr",
     "output_type": "stream",
     "text": [
      "Epoch [20/20]: 100%|██████████| 20/20 [04:17<00:00, 12.86s/it, loss=0.19, val_loss=0.633]\n"
     ]
    },
    {
     "data": {
      "image/png": "[encoded data removed]",
      "text/plain": [
       "<Figure size 720x720 with 2 Axes>"
      ]
     },
     "metadata": {
      "needs_background": "light"
     },
     "output_type": "display_data"
    }
   ],
   "source": [
    "hist = train_loop(model, lossf, dataloader_train, dataloader_val, device, epochs=20,early_stop=False)"
   ]
  },
  {
   "cell_type": "code",
   "execution_count": 9,
   "metadata": {},
   "outputs": [],
   "source": [
    "for layer in model.children():\n",
    "   if hasattr(layer, 'reset_parameters'):\n",
    "       layer.reset_parameters()"
   ]
  },
  {
   "cell_type": "code",
   "execution_count": 10,
   "metadata": {},
   "outputs": [
    {
     "name": "stderr",
     "output_type": "stream",
     "text": [
      "Epoch [5/5]: 100%|██████████| 5/5 [01:05<00:00, 13.18s/it, loss=0.1, val_loss=1.16]\n"
     ]
    },
    {
     "data": {
      "image/png": "[encoded data removed]",
      "text/plain": [
       "<Figure size 720x720 with 2 Axes>"
      ]
     },
     "metadata": {
      "needs_background": "light"
     },
     "output_type": "display_data"
    }
   ],
   "source": [
    "hist = train_loop(model, lossf, dataloader_train, dataloader_val, device, epochs=5)"
   ]
  },
  {
   "cell_type": "code",
   "execution_count": 11,
   "metadata": {},
   "outputs": [
    {
     "name": "stdout",
     "output_type": "stream",
     "text": [
      "The model obtained an accuracy of 0.844, and a loss of 0.737\n"
     ]
    }
   ],
   "source": [
    "test_loop(model, lossf, dataloader_test, device)"
   ]
  },
  {
   "cell_type": "code",
   "execution_count": 12,
   "metadata": {},
   "outputs": [],
   "source": [
    " with torch.cuda.device(device):\n",
    "            torch.cuda.empty_cache()"
   ]
  },
  {
   "cell_type": "code",
   "execution_count": 29,
   "metadata": {},
   "outputs": [],
   "source": [
    "model_restnet = models.resnet34(pretrained=True)\n",
    "for param in model_restnet.parameters():\n",
    "    param.required_grad = False"
   ]
  },
  {
   "cell_type": "code",
   "execution_count": 30,
   "metadata": {},
   "outputs": [],
   "source": [
    "nr_feat = model_restnet.fc.in_features\n",
    "model_restnet.fc = torch.nn.Sequential(OrderedDict([\n",
    "    ('fc', torch.nn.Linear(nr_feat, 2))\n",
    "]))"
   ]
  },
  {
   "cell_type": "code",
   "execution_count": 33,
   "metadata": {},
   "outputs": [],
   "source": [
    "# model_restnet.fc.parameters.required_grad = True\n",
    "for param in model_restnet.fc.parameters():\n",
    "    param.required_grad = True"
   ]
  },
  {
   "cell_type": "code",
   "execution_count": 34,
   "metadata": {},
   "outputs": [],
   "source": [
    "model_restnet.to(device);"
   ]
  },
  {
   "cell_type": "code",
   "execution_count": 35,
   "metadata": {},
   "outputs": [],
   "source": [
    "optimizer2 = torch.optim.Adam(model_restnet.parameters())"
   ]
  },
  {
   "cell_type": "code",
   "execution_count": 36,
   "metadata": {},
   "outputs": [
    {
     "name": "stderr",
     "output_type": "stream",
     "text": [
      "Epoch [27/30]:  90%|█████████ | 27/30 [15:33<01:45, 35.22s/it, loss=0.801, val_loss=0.84]"
     ]
    }
   ],
   "source": [
    "train_loop(model_restnet, lossf, dataloader_train, dataloader_val, device, epochs=30, early_stop=False)"
   ]
  },
  {
   "cell_type": "code",
   "execution_count": null,
   "metadata": {},
   "outputs": [],
   "source": [
    "for layer in model_restnet.children():\n",
    "   if hasattr(layer, 'reset_parameters'):\n",
    "       layer.reset_parameters()"
   ]
  },
  {
   "cell_type": "code",
   "execution_count": null,
   "metadata": {},
   "outputs": [],
   "source": [
    "train_loop(model_restnet, lossf, dataloader_train, dataloader_val, device, epochs=100)"
   ]
  },
  {
   "cell_type": "code",
   "execution_count": 15,
   "metadata": {},
   "outputs": [
    {
     "name": "stdout",
     "output_type": "stream",
     "text": [
      "The model obtained an accuracy of 0.534, and a loss of 0.714\n"
     ]
    }
   ],
   "source": [
    "test_loop(model_restnet, lossf, dataloader_test, device)"
   ]
  }
 ],
 "metadata": {
  "interpreter": {
   "hash": "9bff50ca3d8d5c74151ba18f2266f1b2433cf2c9a81f96b80dc157b663dbf0f1"
  },
  "kernelspec": {
   "display_name": "Python 3.9.7 64-bit ('cvc': conda)",
   "name": "python3"
  },
  "language_info": {
   "codemirror_mode": {
    "name": "ipython",
    "version": 3
   },
   "file_extension": ".py",
   "mimetype": "text/x-python",
   "name": "python",
   "nbconvert_exporter": "python",
   "pygments_lexer": "ipython3",
   "version": "3.9.7"
  },
  "orig_nbformat": 4
 },
 "nbformat": 4,
 "nbformat_minor": 2
}
