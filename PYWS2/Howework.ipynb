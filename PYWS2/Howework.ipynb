{
 "cells": [
  {
   "cell_type": "code",
   "execution_count": 4,
   "metadata": {},
   "outputs": [],
   "source": [
    "from datetime import date, datetime"
   ]
  },
  {
   "cell_type": "code",
   "execution_count": 26,
   "metadata": {},
   "outputs": [],
   "source": [
    "class Om():\n",
    "    def __init__(self, nume, prenume, data_nastere):\n",
    "        self.nume: str = nume\n",
    "        self.prenume: str = prenume\n",
    "        self.data_nastere = datetime.strptime(data_nastere, \"%d.%m.%Y\")\n",
    "            \n",
    "    def age(self):\n",
    "        current_year = date.today().strftime(\"%Y\")\n",
    "\n",
    "        years = int(current_year) - int(self.data_nastere.strftime(\"%Y\"))\n",
    "\n",
    "        if years > 1:\n",
    "            return f\"Varsta ta este de {years} ani.\"    \n",
    "\n",
    "        return f\"Varsta ta este de un {years} an.\"\n"
   ]
  },
  {
   "cell_type": "code",
   "execution_count": 27,
   "metadata": {},
   "outputs": [
    {
     "name": "stdout",
     "output_type": "stream",
     "text": [
      "Varsta ta este de 24 ani.\n"
     ]
    }
   ],
   "source": [
    "eu = Om(\"Dumitrascu\", \"Tudor\", \"16.09.1997\")\n",
    "print(eu.age())"
   ]
  },
  {
   "cell_type": "code",
   "execution_count": 32,
   "metadata": {},
   "outputs": [],
   "source": [
    "class Elev(Om):\n",
    "    def __init__(self, nume, prenume, data_nastere, clasa, nota_medie):\n",
    "        super().__init__(nume, prenume, data_nastere)\n",
    "        self.clasa = clasa\n",
    "        self.nota_medie = nota_medie\n",
    "\n",
    "    def eminent(self):\n",
    "        if self.nota_medie > 8:\n",
    "            return f\"Elevul {self.nume} {self.prenume} din clasa {self.clasa} este eminent\"\n",
    "        else:\n",
    "            return f\"Elevul {self.nume} {self.prenume} din clasa {self.clasa} nu este eminent\""
   ]
  },
  {
   "cell_type": "code",
   "execution_count": 36,
   "metadata": {},
   "outputs": [
    {
     "name": "stdout",
     "output_type": "stream",
     "text": [
      "Varsta ta este de 24 ani.\n",
      "Elevul Dumitrascu Tudor din clasa 12A este eminent\n"
     ]
    }
   ],
   "source": [
    "elev = Elev(\"Dumitrascu\", \"Tudor\", \"16.09.1997\", \"12A\", 9.5 )\n",
    "print(elev.age())\n",
    "print(elev.eminent())"
   ]
  },
  {
   "cell_type": "code",
   "execution_count": 39,
   "metadata": {},
   "outputs": [],
   "source": [
    "class Profesor(Om):\n",
    "    def __init__(self, nume, prenume, data_nastere, discipline, salariu):\n",
    "        super().__init__(nume, prenume, data_nastere)\n",
    "        self.discipline = discipline\n",
    "        self.salariu = salariu\n",
    "\n",
    "    def salariu_anual(self):\n",
    "        return f\"Salariul pt Prof. {self.nume} {self.prenume} este de {12 * self.salariu} lei pe an\"\n",
    "    \n",
    "    def nr_discipline(self):\n",
    "        return f\"Prof. {self.nume} {self.prenume} preda la {len(self.discipline)}\""
   ]
  },
  {
   "cell_type": "code",
   "execution_count": 41,
   "metadata": {},
   "outputs": [
    {
     "name": "stdout",
     "output_type": "stream",
     "text": [
      "Varsta ta este de 65 ani.\n",
      "Salariul pt Prof. Ionescu Marian este de 5052 lei pe an\n",
      "Prof. Ionescu Marian preda la 3\n"
     ]
    }
   ],
   "source": [
    "prof = Profesor(\"Ionescu\", \"Marian\", \"20.11.1956\", [\"Matematica\", \"Informatica\", \"Logica\"], 421)\n",
    "print(prof.age())\n",
    "print(prof.salariu_anual())\n",
    "print(prof.nr_discipline())"
   ]
  },
  {
   "cell_type": "code",
   "execution_count": null,
   "metadata": {},
   "outputs": [],
   "source": []
  }
 ],
 "metadata": {
  "interpreter": {
   "hash": "9bff50ca3d8d5c74151ba18f2266f1b2433cf2c9a81f96b80dc157b663dbf0f1"
  },
  "kernelspec": {
   "display_name": "Python 3.9.7 64-bit ('cvc': conda)",
   "name": "python3"
  },
  "language_info": {
   "codemirror_mode": {
    "name": "ipython",
    "version": 3
   },
   "file_extension": ".py",
   "mimetype": "text/x-python",
   "name": "python",
   "nbconvert_exporter": "python",
   "pygments_lexer": "ipython3",
   "version": "3.9.7"
  },
  "orig_nbformat": 4
 },
 "nbformat": 4,
 "nbformat_minor": 2
}
