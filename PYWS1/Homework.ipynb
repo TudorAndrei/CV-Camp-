{
 "metadata": {
  "language_info": {
   "codemirror_mode": {
    "name": "ipython",
    "version": 3
   },
   "file_extension": ".py",
   "mimetype": "text/x-python",
   "name": "python",
   "nbconvert_exporter": "python",
   "pygments_lexer": "ipython3",
   "version": "3.8.0"
  },
  "orig_nbformat": 4,
  "kernelspec": {
   "name": "python3",
   "display_name": "Python 3.8.0 64-bit ('compviz': conda)"
  },
  "interpreter": {
   "hash": "5f6750631f98e4f93eb516d84b6839b65d186ad2e59a02ee490e1c9f298e2ce9"
  }
 },
 "nbformat": 4,
 "nbformat_minor": 2,
 "cells": [
  {
   "cell_type": "code",
   "execution_count": 64,
   "metadata": {},
   "outputs": [],
   "source": [
    "def no_days(x, year=None):\n",
    "    if x == 2:\n",
    "        if year  and (year %4 == 0 and year % 400 == 0 and year %100 == 0):\n",
    "            return 29\n",
    "        return 28\n",
    "    elif (x%2 == 0 and x < 8) or (x%2 == 1 and x >= 8):\n",
    "        return 30\n",
    "    elif (x%2 == 0 and x >= 8) or (x%2 == 1 and x < 8):\n",
    "        return 31"
   ]
  },
  {
   "cell_type": "code",
   "execution_count": 65,
   "metadata": {},
   "outputs": [
    {
     "output_type": "stream",
     "name": "stdout",
     "text": [
      "Month 1 has 31\nMonth 2 has 28\nMonth 3 has 31\nMonth 4 has 30\nMonth 5 has 31\nMonth 6 has 30\nMonth 7 has 31\nMonth 8 has 31\nMonth 9 has 30\nMonth 10 has 31\nMonth 11 has 30\nMonth 12 has 31\n"
     ]
    }
   ],
   "source": [
    "for i in range(1,13):\n",
    "    print(f\"Month {i} has {no_days(i)}\")"
   ]
  },
  {
   "cell_type": "code",
   "execution_count": 66,
   "metadata": {},
   "outputs": [
    {
     "output_type": "stream",
     "name": "stdout",
     "text": [
      "Year 1999\n\tMonth 1 has 31\n\tMonth 2 has 28\n\tMonth 3 has 31\n\tMonth 4 has 30\n\tMonth 5 has 31\n\tMonth 6 has 30\n\tMonth 7 has 31\n\tMonth 8 has 31\n\tMonth 9 has 30\n\tMonth 10 has 31\n\tMonth 11 has 30\n\tMonth 12 has 31\nYear 2000\n\tMonth 1 has 31\n\tMonth 2 has 29\n\tMonth 3 has 31\n\tMonth 4 has 30\n\tMonth 5 has 31\n\tMonth 6 has 30\n\tMonth 7 has 31\n\tMonth 8 has 31\n\tMonth 9 has 30\n\tMonth 10 has 31\n\tMonth 11 has 30\n\tMonth 12 has 31\nYear 2001\n\tMonth 1 has 31\n\tMonth 2 has 28\n\tMonth 3 has 31\n\tMonth 4 has 30\n\tMonth 5 has 31\n\tMonth 6 has 30\n\tMonth 7 has 31\n\tMonth 8 has 31\n\tMonth 9 has 30\n\tMonth 10 has 31\n\tMonth 11 has 30\n\tMonth 12 has 31\nYear 2002\n\tMonth 1 has 31\n\tMonth 2 has 28\n\tMonth 3 has 31\n\tMonth 4 has 30\n\tMonth 5 has 31\n\tMonth 6 has 30\n\tMonth 7 has 31\n\tMonth 8 has 31\n\tMonth 9 has 30\n\tMonth 10 has 31\n\tMonth 11 has 30\n\tMonth 12 has 31\nYear 2003\n\tMonth 1 has 31\n\tMonth 2 has 28\n\tMonth 3 has 31\n\tMonth 4 has 30\n\tMonth 5 has 31\n\tMonth 6 has 30\n\tMonth 7 has 31\n\tMonth 8 has 31\n\tMonth 9 has 30\n\tMonth 10 has 31\n\tMonth 11 has 30\n\tMonth 12 has 31\nYear 2004\n\tMonth 1 has 31\n\tMonth 2 has 28\n\tMonth 3 has 31\n\tMonth 4 has 30\n\tMonth 5 has 31\n\tMonth 6 has 30\n\tMonth 7 has 31\n\tMonth 8 has 31\n\tMonth 9 has 30\n\tMonth 10 has 31\n\tMonth 11 has 30\n\tMonth 12 has 31\nYear 2005\n\tMonth 1 has 31\n\tMonth 2 has 28\n\tMonth 3 has 31\n\tMonth 4 has 30\n\tMonth 5 has 31\n\tMonth 6 has 30\n\tMonth 7 has 31\n\tMonth 8 has 31\n\tMonth 9 has 30\n\tMonth 10 has 31\n\tMonth 11 has 30\n\tMonth 12 has 31\nYear 2006\n\tMonth 1 has 31\n\tMonth 2 has 28\n\tMonth 3 has 31\n\tMonth 4 has 30\n\tMonth 5 has 31\n\tMonth 6 has 30\n\tMonth 7 has 31\n\tMonth 8 has 31\n\tMonth 9 has 30\n\tMonth 10 has 31\n\tMonth 11 has 30\n\tMonth 12 has 31\nYear 2007\n\tMonth 1 has 31\n\tMonth 2 has 28\n\tMonth 3 has 31\n\tMonth 4 has 30\n\tMonth 5 has 31\n\tMonth 6 has 30\n\tMonth 7 has 31\n\tMonth 8 has 31\n\tMonth 9 has 30\n\tMonth 10 has 31\n\tMonth 11 has 30\n\tMonth 12 has 31\nYear 2008\n\tMonth 1 has 31\n\tMonth 2 has 28\n\tMonth 3 has 31\n\tMonth 4 has 30\n\tMonth 5 has 31\n\tMonth 6 has 30\n\tMonth 7 has 31\n\tMonth 8 has 31\n\tMonth 9 has 30\n\tMonth 10 has 31\n\tMonth 11 has 30\n\tMonth 12 has 31\nYear 2009\n\tMonth 1 has 31\n\tMonth 2 has 28\n\tMonth 3 has 31\n\tMonth 4 has 30\n\tMonth 5 has 31\n\tMonth 6 has 30\n\tMonth 7 has 31\n\tMonth 8 has 31\n\tMonth 9 has 30\n\tMonth 10 has 31\n\tMonth 11 has 30\n\tMonth 12 has 31\nYear 2010\n\tMonth 1 has 31\n\tMonth 2 has 28\n\tMonth 3 has 31\n\tMonth 4 has 30\n\tMonth 5 has 31\n\tMonth 6 has 30\n\tMonth 7 has 31\n\tMonth 8 has 31\n\tMonth 9 has 30\n\tMonth 10 has 31\n\tMonth 11 has 30\n\tMonth 12 has 31\nYear 2011\n\tMonth 1 has 31\n\tMonth 2 has 28\n\tMonth 3 has 31\n\tMonth 4 has 30\n\tMonth 5 has 31\n\tMonth 6 has 30\n\tMonth 7 has 31\n\tMonth 8 has 31\n\tMonth 9 has 30\n\tMonth 10 has 31\n\tMonth 11 has 30\n\tMonth 12 has 31\nYear 2012\n\tMonth 1 has 31\n\tMonth 2 has 28\n\tMonth 3 has 31\n\tMonth 4 has 30\n\tMonth 5 has 31\n\tMonth 6 has 30\n\tMonth 7 has 31\n\tMonth 8 has 31\n\tMonth 9 has 30\n\tMonth 10 has 31\n\tMonth 11 has 30\n\tMonth 12 has 31\nYear 2013\n\tMonth 1 has 31\n\tMonth 2 has 28\n\tMonth 3 has 31\n\tMonth 4 has 30\n\tMonth 5 has 31\n\tMonth 6 has 30\n\tMonth 7 has 31\n\tMonth 8 has 31\n\tMonth 9 has 30\n\tMonth 10 has 31\n\tMonth 11 has 30\n\tMonth 12 has 31\nYear 2014\n\tMonth 1 has 31\n\tMonth 2 has 28\n\tMonth 3 has 31\n\tMonth 4 has 30\n\tMonth 5 has 31\n\tMonth 6 has 30\n\tMonth 7 has 31\n\tMonth 8 has 31\n\tMonth 9 has 30\n\tMonth 10 has 31\n\tMonth 11 has 30\n\tMonth 12 has 31\nYear 2015\n\tMonth 1 has 31\n\tMonth 2 has 28\n\tMonth 3 has 31\n\tMonth 4 has 30\n\tMonth 5 has 31\n\tMonth 6 has 30\n\tMonth 7 has 31\n\tMonth 8 has 31\n\tMonth 9 has 30\n\tMonth 10 has 31\n\tMonth 11 has 30\n\tMonth 12 has 31\nYear 2016\n\tMonth 1 has 31\n\tMonth 2 has 28\n\tMonth 3 has 31\n\tMonth 4 has 30\n\tMonth 5 has 31\n\tMonth 6 has 30\n\tMonth 7 has 31\n\tMonth 8 has 31\n\tMonth 9 has 30\n\tMonth 10 has 31\n\tMonth 11 has 30\n\tMonth 12 has 31\nYear 2017\n\tMonth 1 has 31\n\tMonth 2 has 28\n\tMonth 3 has 31\n\tMonth 4 has 30\n\tMonth 5 has 31\n\tMonth 6 has 30\n\tMonth 7 has 31\n\tMonth 8 has 31\n\tMonth 9 has 30\n\tMonth 10 has 31\n\tMonth 11 has 30\n\tMonth 12 has 31\nYear 2018\n\tMonth 1 has 31\n\tMonth 2 has 28\n\tMonth 3 has 31\n\tMonth 4 has 30\n\tMonth 5 has 31\n\tMonth 6 has 30\n\tMonth 7 has 31\n\tMonth 8 has 31\n\tMonth 9 has 30\n\tMonth 10 has 31\n\tMonth 11 has 30\n\tMonth 12 has 31\nYear 2019\n\tMonth 1 has 31\n\tMonth 2 has 28\n\tMonth 3 has 31\n\tMonth 4 has 30\n\tMonth 5 has 31\n\tMonth 6 has 30\n\tMonth 7 has 31\n\tMonth 8 has 31\n\tMonth 9 has 30\n\tMonth 10 has 31\n\tMonth 11 has 30\n\tMonth 12 has 31\nYear 2020\n\tMonth 1 has 31\n\tMonth 2 has 28\n\tMonth 3 has 31\n\tMonth 4 has 30\n\tMonth 5 has 31\n\tMonth 6 has 30\n\tMonth 7 has 31\n\tMonth 8 has 31\n\tMonth 9 has 30\n\tMonth 10 has 31\n\tMonth 11 has 30\n\tMonth 12 has 31\nYear 2021\n\tMonth 1 has 31\n\tMonth 2 has 28\n\tMonth 3 has 31\n\tMonth 4 has 30\n\tMonth 5 has 31\n\tMonth 6 has 30\n\tMonth 7 has 31\n\tMonth 8 has 31\n\tMonth 9 has 30\n\tMonth 10 has 31\n\tMonth 11 has 30\n\tMonth 12 has 31\nYear 2022\n\tMonth 1 has 31\n\tMonth 2 has 28\n\tMonth 3 has 31\n\tMonth 4 has 30\n\tMonth 5 has 31\n\tMonth 6 has 30\n\tMonth 7 has 31\n\tMonth 8 has 31\n\tMonth 9 has 30\n\tMonth 10 has 31\n\tMonth 11 has 30\n\tMonth 12 has 31\nYear 2023\n\tMonth 1 has 31\n\tMonth 2 has 28\n\tMonth 3 has 31\n\tMonth 4 has 30\n\tMonth 5 has 31\n\tMonth 6 has 30\n\tMonth 7 has 31\n\tMonth 8 has 31\n\tMonth 9 has 30\n\tMonth 10 has 31\n\tMonth 11 has 30\n\tMonth 12 has 31\nYear 2024\n\tMonth 1 has 31\n\tMonth 2 has 28\n\tMonth 3 has 31\n\tMonth 4 has 30\n\tMonth 5 has 31\n\tMonth 6 has 30\n\tMonth 7 has 31\n\tMonth 8 has 31\n\tMonth 9 has 30\n\tMonth 10 has 31\n\tMonth 11 has 30\n\tMonth 12 has 31\n"
     ]
    }
   ],
   "source": [
    "for year in range(1999, 2025):\n",
    "    print(f\"Year {year}\")\n",
    "    for i in range(1,13):\n",
    "        print(f\"\\tMonth {i} has {no_days(i,year)}\")"
   ]
  },
  {
   "source": [
    "# Sources\n",
    "\n",
    "[wiki how leap year](https://www.wikihow.com/Calculate-Leap-Years)\n",
    "\n",
    "[leap years](https://www.thelists.org/list-of-leap-years.html)"
   ],
   "cell_type": "markdown",
   "metadata": {}
  }
 ]
}